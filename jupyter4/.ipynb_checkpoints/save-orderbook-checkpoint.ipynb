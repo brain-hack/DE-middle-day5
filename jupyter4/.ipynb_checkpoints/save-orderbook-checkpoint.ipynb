{
 "cells": [
  {
   "cell_type": "code",
   "execution_count": 16,
   "metadata": {},
   "outputs": [
    {
     "name": "stdout",
     "output_type": "stream",
     "text": [
      "Requirement already satisfied: redis in /usr/local/lib/python3.6/dist-packages\n",
      "Requirement already satisfied: pymongo in /usr/local/lib/python3.6/dist-packages\n",
      "Collecting confluent_kafka\n",
      "  Downloading https://files.pythonhosted.org/packages/48/8c/01c71291da9722756304675d992eddba1c88fe3f6a4662f9c788c3f0c263/confluent_kafka-1.2.0-cp36-cp36m-manylinux1_x86_64.whl (7.4MB)\n",
      "\u001b[K    100% |################################| 7.4MB 224kB/s eta 0:00:01\n",
      "\u001b[?25hInstalling collected packages: confluent-kafka\n",
      "Successfully installed confluent-kafka-1.2.0\n"
     ]
    }
   ],
   "source": [
    "! pip3 install redis\n",
    "! pip3 install pymongo\n",
    "! pip3 install confluent_kafka"
   ]
  },
  {
   "cell_type": "code",
   "execution_count": 43,
   "metadata": {},
   "outputs": [],
   "source": [
    "from confluent_kafka import Consumer, KafkaException\n",
    "import redis\n",
    "import pymongo\n",
    "import confluent_kafka\n",
    "import logging\n",
    "import sys\n",
    "import json"
   ]
  },
  {
   "cell_type": "code",
   "execution_count": 39,
   "metadata": {},
   "outputs": [],
   "source": [
    "def connect_redis():\n",
    "    \n",
    "    ORDERBOOK  = 3\n",
    "    \n",
    "    return redis.StrictRedis(\n",
    "\n",
    "        host='127.0.0.1',\n",
    "\n",
    "        port=6379,\n",
    "\n",
    "        db=ORDERBOOK)\n",
    "    "
   ]
  },
  {
   "cell_type": "code",
   "execution_count": 40,
   "metadata": {},
   "outputs": [],
   "source": [
    "redis_conn = connect_redis()"
   ]
  },
  {
   "cell_type": "code",
   "execution_count": 59,
   "metadata": {},
   "outputs": [],
   "source": [
    "def connect_mongo():\n",
    "    myclient = pymongo.MongoClient(\"mongodb://localhost:27017/\")\n",
    "\n",
    "    mydb = myclient[\"upbit\"]\n",
    "    mycol = mydb[\"orderbook\"]\n",
    "    \n",
    "    return mycol"
   ]
  },
  {
   "cell_type": "code",
   "execution_count": 60,
   "metadata": {},
   "outputs": [],
   "source": [
    "mongo_col = connect_mongo()"
   ]
  },
  {
   "cell_type": "code",
   "execution_count": 61,
   "metadata": {},
   "outputs": [],
   "source": [
    "def connect_kafka_as_a_consumer():\n",
    "    # Create logger for consumer (logs will be emitted when poll() is called)\n",
    "    logger = logging.getLogger('consumer')\n",
    "    logger.setLevel(logging.DEBUG)\n",
    "    handler = logging.StreamHandler()\n",
    "    handler.setFormatter(logging.Formatter('%(asctime)-15s %(levelname)-8s %(message)s'))\n",
    "    logger.addHandler(handler)\n",
    "    \n",
    "    conf = {'bootstrap.servers': \"localhost:9092,localhost:9093,localhost:9094\",\n",
    "        'group.id': \"orderbook_saver\",\n",
    "        'auto.offset.reset': 'earliest'}\n",
    "    \n",
    "    return Consumer(conf, logger=logger)"
   ]
  },
  {
   "cell_type": "code",
   "execution_count": 62,
   "metadata": {},
   "outputs": [],
   "source": [
    "consumer = connect_kafka_as_a_consumer()"
   ]
  },
  {
   "cell_type": "code",
   "execution_count": 63,
   "metadata": {},
   "outputs": [],
   "source": [
    "def print_assignment(consumer, partitions):\n",
    "        print('Assignment:', partitions)"
   ]
  },
  {
   "cell_type": "code",
   "execution_count": 64,
   "metadata": {},
   "outputs": [],
   "source": [
    "def data_filtering(data):\n",
    "    del data[\"stream_type\"]\n",
    "    return data"
   ]
  },
  {
   "cell_type": "code",
   "execution_count": 65,
   "metadata": {},
   "outputs": [],
   "source": [
    "def extract_key_of_data(data):\n",
    "    return data[\"timestamp\"]"
   ]
  },
  {
   "cell_type": "code",
   "execution_count": 66,
   "metadata": {},
   "outputs": [],
   "source": [
    "def save_redis(conn,key,data):\n",
    "    data = json.dumps(data)\n",
    "    print ('Set Record:', conn.set(key, data))"
   ]
  },
  {
   "cell_type": "code",
   "execution_count": 67,
   "metadata": {},
   "outputs": [],
   "source": [
    "def save_mongo(col,key,data):\n",
    "    data[\"_id\"] = key\n",
    "    x = col.insert_one(data)\n",
    "    print(x.inserted_ids)"
   ]
  },
  {
   "cell_type": "code",
   "execution_count": null,
   "metadata": {},
   "outputs": [],
   "source": [
    "consumer.subscribe([\"orderbook\"], on_assign=print_assignment)"
   ]
  },
  {
   "cell_type": "code",
   "execution_count": 58,
   "metadata": {},
   "outputs": [
    {
     "name": "stderr",
     "output_type": "stream",
     "text": [
      "%% Aborted by user\n"
     ]
    }
   ],
   "source": [
    "count = 0\n",
    "\n",
    "while True:\n",
    "    try:\n",
    "        msg = consumer.poll(1.0)\n",
    "            \n",
    "        if msg is None:\n",
    "            continue\n",
    "        if msg.error():\n",
    "            raise KafkaException(msg.error())\n",
    "        else:\n",
    "            # Proper message\n",
    "            data = json.loads(msg.value()) \n",
    "            data = data_filtering(data)\n",
    "            key = extract_key_of_data(data)\n",
    "            save_redis(redis_conn,key,data)\n",
    "            save_mongo(mongo_col)\n",
    "        if count > 10000:\n",
    "            consumer.close()\n",
    "            break\n",
    "        count += 1\n",
    "    except KeyboardInterrupt:\n",
    "        sys.stderr.write('%% Aborted by user\\n')\n",
    "        consumer.close()\n",
    "        break"
   ]
  },
  {
   "cell_type": "code",
   "execution_count": null,
   "metadata": {},
   "outputs": [],
   "source": []
  }
 ],
 "metadata": {
  "kernelspec": {
   "display_name": "Python 3",
   "language": "python",
   "name": "python3"
  },
  "language_info": {
   "codemirror_mode": {
    "name": "ipython",
    "version": 3
   },
   "file_extension": ".py",
   "mimetype": "text/x-python",
   "name": "python",
   "nbconvert_exporter": "python",
   "pygments_lexer": "ipython3",
   "version": "3.6.9"
  }
 },
 "nbformat": 4,
 "nbformat_minor": 2
}
