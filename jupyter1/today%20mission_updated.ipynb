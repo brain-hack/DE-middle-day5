{
 "cells": [
  {
   "cell_type": "markdown",
   "metadata": {},
   "source": [
    "# 미션 \n",
    "## 업비트의 거래정보 처리\n",
    "\n",
    "mongoDB와 csv file로 저장하고 아파치 플링크의 배치처리기능을 이용하여 빈도수 측정\n",
    "\n",
    "1. 웹소켓을 이용하여 데이터를 실시간으로 가져옵니다 \n",
    "2. 가져온 데이터를 카프카를 이용해 보냅니다 ( 토픽은 저장 토픽과 배치처리 토픽으로 나뉩니다 / 현재가와 호가는 저장토픽으로 채결정보는 배치처리로) \n",
    "3. 저장토픽의 컨슈머는 몽고디비, redis에 해당 내용을 게속 저장합니다. \n",
    "4. 배치처리토픽의 컨슈머는 csv형태로 저장합니다(일정갯수만 저장하면 됌)\n",
    "5. csv 저장이 끝났으면 아파치 플링크를 이용해서 종목별 채결 수를 카운팅합니다.\n",
    "6. 저장한 결과를 rabbitMQ를 통해서 전달, 받는쪽은 몸고디비, 레디스"
   ]
  },
  {
   "cell_type": "markdown",
   "metadata": {},
   "source": [
    "# Upbit websocket \n",
    "\n",
    "업비트의 실시간 거래정보를 웹소켓을 이용해 실시간으로 들고올 수 있습니다. "
   ]
  },
  {
   "cell_type": "code",
   "execution_count": null,
   "metadata": {},
   "outputs": [],
   "source": []
  },
  {
   "cell_type": "markdown",
   "metadata": {},
   "source": [
    "endpoint : wss://api.upbit.com/websocket/v1"
   ]
  },
  {
   "cell_type": "markdown",
   "metadata": {},
   "source": [
    "1. 현재가 \n",
    "2. 채결정보\n",
    "3. 호가"
   ]
  },
  {
   "cell_type": "code",
   "execution_count": null,
   "metadata": {},
   "outputs": [],
   "source": [
    "현재가 \n",
    "\n",
    "요청 파라미터\n",
    "\n",
    "[{\"ticket\":\"임의지정\"},{\"type\":\"ticker\",\"codes\":[\"KRW-BTC\",\"KRW-ETH\",\"KRW-BCH\",\"KRW-XRP\",\"ETH-BCH\",\"BTC-BCH\"]}]"
   ]
  },
  {
   "cell_type": "code",
   "execution_count": null,
   "metadata": {},
   "outputs": [],
   "source": [
    "채결정보\n",
    "\n",
    "요청 파라미터\n",
    "[{\"ticket\":\"임의지정\"},{\"type\":\"trade\",\"codes\":[\"KRW-BTC\",\"KRW-ETH\",\"KRW-BCH\",\"KRW-XRP\",\"ETH-BCH\",\"BTC-BCH\"]}]"
   ]
  },
  {
   "cell_type": "code",
   "execution_count": null,
   "metadata": {},
   "outputs": [],
   "source": [
    "호가 \n",
    "\n",
    "요청 파라미터 \n",
    "[{\"ticket\":\"임의지정\"},{\"type\":\"orderbook\",\"codes\":[\"KRW-BTC\",\"KRW-ETH\",\"KRW-BCH\",\"KRW-XRP\",\"ETH-BCH\",\"BTC-BCH\"]}]"
   ]
  },
  {
   "cell_type": "code",
   "execution_count": null,
   "metadata": {},
   "outputs": [],
   "source": []
  },
  {
   "cell_type": "markdown",
   "metadata": {},
   "source": [
    "## python websocket example"
   ]
  },
  {
   "cell_type": "code",
   "execution_count": 1,
   "metadata": {},
   "outputs": [
    {
     "name": "stdout",
     "output_type": "stream",
     "text": [
      "Collecting websocket\n",
      "  Downloading https://files.pythonhosted.org/packages/f2/6d/a60d620ea575c885510c574909d2e3ed62129b121fa2df00ca1c81024c87/websocket-0.2.1.tar.gz (195kB)\n",
      "\u001b[K    100% |################################| 204kB 6.7MB/s ta 0:00:01\n",
      "\u001b[?25hCollecting gevent (from websocket)\n",
      "  Downloading https://files.pythonhosted.org/packages/f2/ca/5b5962361ed832847b6b2f9a2d0452c8c2f29a93baef850bb8ad067c7bf9/gevent-1.4.0-cp36-cp36m-manylinux1_x86_64.whl (5.5MB)\n",
      "\u001b[K    100% |################################| 5.5MB 228kB/s eta 0:00:01\n",
      "\u001b[?25hCollecting greenlet (from websocket)\n",
      "  Downloading https://files.pythonhosted.org/packages/bf/45/142141aa47e01a5779f0fa5a53b81f8379ce8f2b1cd13df7d2f1d751ae42/greenlet-0.4.15-cp36-cp36m-manylinux1_x86_64.whl (41kB)\n",
      "\u001b[K    100% |################################| 51kB 12.9MB/s ta 0:00:01\n",
      "\u001b[?25hBuilding wheels for collected packages: websocket\n",
      "  Running setup.py bdist_wheel for websocket ... \u001b[?25ldone\n",
      "\u001b[?25h  Stored in directory: /root/.cache/pip/wheels/35/f7/5c/9e8243838269ea93f05295708519a6e183fa6b515d9ce3b636\n",
      "Successfully built websocket\n",
      "Installing collected packages: greenlet, gevent, websocket\n",
      "Successfully installed gevent-1.4.0 greenlet-0.4.15 websocket-0.2.1\n"
     ]
    }
   ],
   "source": [
    "!pip3 install websocket-client"
   ]
  },
  {
   "cell_type": "code",
   "execution_count": null,
   "metadata": {},
   "outputs": [],
   "source": [
    "from websocket import create_connection\n",
    "ws = create_connection(\"ws://echo.websocket.org/\")\n",
    "print(\"Sending 'Hello, World'...\")\n",
    "ws.send(\"Hello, World\")\n",
    "print(\"Sent\")\n",
    "print(\"Receiving...\")\n",
    "while:\n",
    "    result =  ws.recv()\n",
    "    print(\"Received '%s'\" % result)\n",
    "ws.close()"
   ]
  },
  {
   "cell_type": "code",
   "execution_count": null,
   "metadata": {},
   "outputs": [],
   "source": []
  },
  {
   "cell_type": "code",
   "execution_count": null,
   "metadata": {},
   "outputs": [],
   "source": [
    "ㅜ"
   ]
  },
  {
   "cell_type": "code",
   "execution_count": null,
   "metadata": {},
   "outputs": [],
   "source": []
  }
 ],
 "metadata": {
  "kernelspec": {
   "display_name": "Python 3",
   "language": "python",
   "name": "python3"
  },
  "language_info": {
   "codemirror_mode": {
    "name": "ipython",
    "version": 3
   },
   "file_extension": ".py",
   "mimetype": "text/x-python",
   "name": "python",
   "nbconvert_exporter": "python",
   "pygments_lexer": "ipython3",
   "version": "3.6.9"
  }
 },
 "nbformat": 4,
 "nbformat_minor": 2
}
