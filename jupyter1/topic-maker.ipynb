{
 "cells": [
  {
   "cell_type": "code",
   "execution_count": 1,
   "metadata": {},
   "outputs": [
    {
     "name": "stdout",
     "output_type": "stream",
     "text": [
      "Collecting confluent_kafka\n",
      "  Downloading https://files.pythonhosted.org/packages/48/8c/01c71291da9722756304675d992eddba1c88fe3f6a4662f9c788c3f0c263/confluent_kafka-1.2.0-cp36-cp36m-manylinux1_x86_64.whl (7.4MB)\n",
      "\u001b[K    100% |################################| 7.4MB 134kB/s ta 0:00:01\n",
      "\u001b[?25hInstalling collected packages: confluent-kafka\n",
      "Successfully installed confluent-kafka-1.2.0\n"
     ]
    }
   ],
   "source": [
    "! pip3 install confluent_kafka"
   ]
  },
  {
   "cell_type": "code",
   "execution_count": 2,
   "metadata": {},
   "outputs": [],
   "source": [
    "from confluent_kafka.admin import AdminClient, NewTopic, NewPartitions\n",
    "import logging\n",
    "\n",
    "logging.basicConfig()\n",
    "\n",
    "a = AdminClient({'bootstrap.servers': 'localhost:9092,localhost:9093,localhost:9094'})"
   ]
  },
  {
   "cell_type": "code",
   "execution_count": 3,
   "metadata": {},
   "outputs": [],
   "source": [
    "def create_topics(a, topics):\n",
    "    \"\"\" Create topics \"\"\"\n",
    "\n",
    "    new_topics = [NewTopic(topic, num_partitions=1, replication_factor=2) for topic in topics]\n",
    "    # Call create_topics to asynchronously create topics, a dict\n",
    "    # of <topic,future> is returned.\n",
    "    fs = a.create_topics(new_topics)\n",
    "\n",
    "    # Wait for operation to finish.\n",
    "    # Timeouts are preferably controlled by passing request_timeout=15.0\n",
    "    # to the create_topics() call.\n",
    "    # All futures will finish at the same time.\n",
    "    for topic, f in fs.items():\n",
    "        try:\n",
    "            f.result()  # The result itself is None\n",
    "            print(\"Topic {} created\".format(topic))\n",
    "        except Exception as e:\n",
    "            print(\"Failed to create topic {}: {}\".format(topic, e))"
   ]
  },
  {
   "cell_type": "code",
   "execution_count": 9,
   "metadata": {},
   "outputs": [
    {
     "name": "stdout",
     "output_type": "stream",
     "text": [
      "Topic ticker created\n",
      "Failed to create topic orderbook: KafkaError{code=TOPIC_ALREADY_EXISTS,val=36,str=\"Topic 'orderbook' already exists.\"}\n",
      "Failed to create topic trade: KafkaError{code=TOPIC_ALREADY_EXISTS,val=36,str=\"Topic 'trade' already exists.\"}\n"
     ]
    }
   ],
   "source": [
    "topic_names = [\"ticker\",\"orderbook\",\"trade\"]\n",
    "\n",
    "create_topics(a,topics=topic_names)"
   ]
  },
  {
   "cell_type": "code",
   "execution_count": 10,
   "metadata": {},
   "outputs": [],
   "source": [
    "def list_topic_metadata(a, arg = \"all\"):\n",
    "    \"\"\" list topics and cluster metadata \"\"\"\n",
    "\n",
    "    what = arg\n",
    "\n",
    "    md = a.list_topics(timeout=10)\n",
    "\n",
    "    print(\"Cluster {} metadata (response from broker {}):\".format(md.cluster_id, md.orig_broker_name))\n",
    "\n",
    "    if what in (\"all\", \"brokers\"):\n",
    "        print(\" {} brokers:\".format(len(md.brokers)))\n",
    "        for b in iter(md.brokers.values()):\n",
    "            if b.id == md.controller_id:\n",
    "                print(\"  {}  (controller)\".format(b))\n",
    "            else:\n",
    "                print(\"  {}\".format(b))\n",
    "\n",
    "    if what not in (\"all\", \"topics\"):\n",
    "        return\n",
    "\n",
    "    print(\" {} topics:\".format(len(md.topics)))\n",
    "    for t in iter(md.topics.values()):\n",
    "        if t.error is not None:\n",
    "            errstr = \": {}\".format(t.error)\n",
    "        else:\n",
    "            errstr = \"\"\n",
    "\n",
    "        print(\"  \\\"{}\\\" with {} partition(s){}\".format(t, len(t.partitions), errstr))\n",
    "\n",
    "        for p in iter(t.partitions.values()):\n",
    "            if p.error is not None:\n",
    "                errstr = \": {}\".format(p.error)\n",
    "            else:\n",
    "                errstr = \"\"\n",
    "\n",
    "            print(\"    partition {} leader: {}, replicas: {}, isrs: {}\".format(\n",
    "                p.id, p.leader, p.replicas, p.isrs, errstr))"
   ]
  },
  {
   "cell_type": "code",
   "execution_count": 13,
   "metadata": {},
   "outputs": [
    {
     "name": "stdout",
     "output_type": "stream",
     "text": [
      "Cluster VEOYyBtnR8-8ccJbGjaR_Q metadata (response from broker 127.0.0.1:9092/1):\n",
      " 3 brokers:\n",
      "  127.0.0.1:9093/2\n",
      "  127.0.0.1:9094/3\n",
      "  127.0.0.1:9092/1  (controller)\n",
      " 6 topics:\n",
      "  \"trade\" with 1 partition(s)\n",
      "    partition 0 leader: 2, replicas: [2, 3], isrs: [2, 3]\n",
      "  \"__consumer_offsets\" with 50 partition(s)\n",
      "    partition 0 leader: 3, replicas: [3, 1, 2], isrs: [3, 1, 2]\n",
      "    partition 1 leader: 1, replicas: [1, 2, 3], isrs: [1, 2, 3]\n",
      "    partition 2 leader: 2, replicas: [2, 3, 1], isrs: [2, 3, 1]\n",
      "    partition 3 leader: 3, replicas: [3, 2, 1], isrs: [3, 2, 1]\n",
      "    partition 4 leader: 1, replicas: [1, 3, 2], isrs: [1, 3, 2]\n",
      "    partition 5 leader: 2, replicas: [2, 1, 3], isrs: [2, 1, 3]\n",
      "    partition 6 leader: 3, replicas: [3, 1, 2], isrs: [3, 1, 2]\n",
      "    partition 7 leader: 1, replicas: [1, 2, 3], isrs: [1, 2, 3]\n",
      "    partition 8 leader: 2, replicas: [2, 3, 1], isrs: [2, 3, 1]\n",
      "    partition 9 leader: 3, replicas: [3, 2, 1], isrs: [3, 2, 1]\n",
      "    partition 10 leader: 1, replicas: [1, 3, 2], isrs: [1, 3, 2]\n",
      "    partition 11 leader: 2, replicas: [2, 1, 3], isrs: [2, 1, 3]\n",
      "    partition 12 leader: 3, replicas: [3, 1, 2], isrs: [3, 1, 2]\n",
      "    partition 13 leader: 1, replicas: [1, 2, 3], isrs: [1, 2, 3]\n",
      "    partition 14 leader: 2, replicas: [2, 3, 1], isrs: [2, 3, 1]\n",
      "    partition 15 leader: 3, replicas: [3, 2, 1], isrs: [3, 2, 1]\n",
      "    partition 16 leader: 1, replicas: [1, 3, 2], isrs: [1, 3, 2]\n",
      "    partition 17 leader: 2, replicas: [2, 1, 3], isrs: [2, 1, 3]\n",
      "    partition 18 leader: 3, replicas: [3, 1, 2], isrs: [3, 1, 2]\n",
      "    partition 19 leader: 1, replicas: [1, 2, 3], isrs: [1, 2, 3]\n",
      "    partition 20 leader: 2, replicas: [2, 3, 1], isrs: [2, 3, 1]\n",
      "    partition 21 leader: 3, replicas: [3, 2, 1], isrs: [3, 2, 1]\n",
      "    partition 22 leader: 1, replicas: [1, 3, 2], isrs: [1, 3, 2]\n",
      "    partition 23 leader: 2, replicas: [2, 1, 3], isrs: [2, 1, 3]\n",
      "    partition 24 leader: 3, replicas: [3, 1, 2], isrs: [3, 1, 2]\n",
      "    partition 25 leader: 1, replicas: [1, 2, 3], isrs: [1, 2, 3]\n",
      "    partition 26 leader: 2, replicas: [2, 3, 1], isrs: [2, 3, 1]\n",
      "    partition 27 leader: 3, replicas: [3, 2, 1], isrs: [3, 2, 1]\n",
      "    partition 28 leader: 1, replicas: [1, 3, 2], isrs: [1, 3, 2]\n",
      "    partition 29 leader: 2, replicas: [2, 1, 3], isrs: [2, 1, 3]\n",
      "    partition 30 leader: 3, replicas: [3, 1, 2], isrs: [3, 1, 2]\n",
      "    partition 31 leader: 1, replicas: [1, 2, 3], isrs: [1, 2, 3]\n",
      "    partition 32 leader: 2, replicas: [2, 3, 1], isrs: [2, 3, 1]\n",
      "    partition 33 leader: 3, replicas: [3, 2, 1], isrs: [3, 2, 1]\n",
      "    partition 34 leader: 1, replicas: [1, 3, 2], isrs: [1, 3, 2]\n",
      "    partition 35 leader: 2, replicas: [2, 1, 3], isrs: [2, 1, 3]\n",
      "    partition 36 leader: 3, replicas: [3, 1, 2], isrs: [3, 1, 2]\n",
      "    partition 37 leader: 1, replicas: [1, 2, 3], isrs: [1, 2, 3]\n",
      "    partition 38 leader: 2, replicas: [2, 3, 1], isrs: [2, 3, 1]\n",
      "    partition 39 leader: 3, replicas: [3, 2, 1], isrs: [3, 2, 1]\n",
      "    partition 40 leader: 1, replicas: [1, 3, 2], isrs: [1, 3, 2]\n",
      "    partition 41 leader: 2, replicas: [2, 1, 3], isrs: [2, 1, 3]\n",
      "    partition 42 leader: 3, replicas: [3, 1, 2], isrs: [3, 1, 2]\n",
      "    partition 43 leader: 1, replicas: [1, 2, 3], isrs: [1, 2, 3]\n",
      "    partition 44 leader: 2, replicas: [2, 3, 1], isrs: [2, 3, 1]\n",
      "    partition 45 leader: 3, replicas: [3, 2, 1], isrs: [3, 2, 1]\n",
      "    partition 46 leader: 1, replicas: [1, 3, 2], isrs: [1, 3, 2]\n",
      "    partition 47 leader: 2, replicas: [2, 1, 3], isrs: [2, 1, 3]\n",
      "    partition 48 leader: 3, replicas: [3, 1, 2], isrs: [3, 1, 2]\n",
      "    partition 49 leader: 1, replicas: [1, 2, 3], isrs: [1, 2, 3]\n",
      "  \"tocker\" with 1 partition(s)\n",
      "    partition 0 leader: 2, replicas: [2], isrs: [2]\n",
      "  \"orderbook\" with 1 partition(s)\n",
      "    partition 0 leader: 3, replicas: [3, 2], isrs: [3, 2]\n",
      "  \"ticker\" with 1 partition(s)\n",
      "    partition 0 leader: 3, replicas: [3, 1], isrs: [3, 1]\n",
      "  \"__confluent.support.metrics\" with 1 partition(s)\n",
      "    partition 0 leader: 1, replicas: [1], isrs: [1]\n"
     ]
    }
   ],
   "source": [
    "list_topic_metadata(a,\"all\")"
   ]
  },
  {
   "cell_type": "code",
   "execution_count": null,
   "metadata": {},
   "outputs": [],
   "source": []
  }
 ],
 "metadata": {
  "kernelspec": {
   "display_name": "Python 3",
   "language": "python",
   "name": "python3"
  },
  "language_info": {
   "codemirror_mode": {
    "name": "ipython",
    "version": 3
   },
   "file_extension": ".py",
   "mimetype": "text/x-python",
   "name": "python",
   "nbconvert_exporter": "python",
   "pygments_lexer": "ipython3",
   "version": "3.6.9"
  }
 },
 "nbformat": 4,
 "nbformat_minor": 2
}
