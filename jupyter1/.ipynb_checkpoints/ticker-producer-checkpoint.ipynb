{
 "cells": [
  {
   "cell_type": "code",
   "execution_count": 14,
   "metadata": {},
   "outputs": [
    {
     "name": "stdout",
     "output_type": "stream",
     "text": [
      "Requirement already satisfied: websocket-client in /usr/local/lib/python3.6/dist-packages\n",
      "Requirement already satisfied: six in /usr/lib/python3/dist-packages (from websocket-client)\n",
      "Requirement already satisfied: confluent_kafka in /usr/local/lib/python3.6/dist-packages\n"
     ]
    }
   ],
   "source": [
    "! pip3 install websocket-client\n",
    "! pip3 install confluent_kafka"
   ]
  },
  {
   "cell_type": "markdown",
   "metadata": {},
   "source": [
    "# ticker의 데이터 형태 분석\n",
    "\n",
    "{<br>\n",
    "    &nbsp;&nbsp;&nbsp;&nbsp;\"type\":\"ticker\",&nbsp;&nbsp;&nbsp;&nbsp;&nbsp;&nbsp;&nbsp;&nbsp;                         토픽을 결정짓는 attr                  <br>\n",
    "    &nbsp;&nbsp;&nbsp;&nbsp;\"code\":\"KRW-XRP\",&nbsp;&nbsp;&nbsp;&nbsp;&nbsp;&nbsp;&nbsp;&nbsp;                        종목(채결이었으면 카운팅 할 대상)     <br>\n",
    "    &nbsp;&nbsp;&nbsp;&nbsp;\"opening_price\":253.00000000,&nbsp;&nbsp;&nbsp;&nbsp;&nbsp;&nbsp;&nbsp;&nbsp;            시가                                  <br>\n",
    "    &nbsp;&nbsp;&nbsp;&nbsp;\"high_price\":258.00000000,&nbsp;&nbsp;&nbsp;&nbsp;&nbsp;&nbsp;&nbsp;&nbsp;               고가                                  <br>\n",
    "    &nbsp;&nbsp;&nbsp;&nbsp;\"low_price\":251.00000000,&nbsp;&nbsp;&nbsp;&nbsp;&nbsp;&nbsp;&nbsp;&nbsp;                저가                                  <br>\n",
    "    &nbsp;&nbsp;&nbsp;&nbsp;\"trade_price\":254.0,&nbsp;&nbsp;&nbsp;&nbsp;&nbsp;&nbsp;&nbsp;&nbsp;                     현재가격                              <br>\n",
    "    &nbsp;&nbsp;&nbsp;&nbsp;\"prev_closing_price\":253.00000000,&nbsp;&nbsp;&nbsp;&nbsp;&nbsp;&nbsp;&nbsp;&nbsp;       최근 종가(시가이전)       - 시가, 고가, 저가, 종가 = ohlc 캔들차트를 구성하는 데이터  <br>\n",
    "    &nbsp;&nbsp;&nbsp;&nbsp;\"acc_trade_price\":7079052927.748265220,&nbsp;&nbsp;&nbsp;&nbsp;&nbsp;&nbsp;&nbsp;&nbsp;  누적 거래가                                                                           <br>\n",
    "    &nbsp;&nbsp;&nbsp;&nbsp;\"change\":\"RISE\",&nbsp;&nbsp;&nbsp;&nbsp;&nbsp;&nbsp;&nbsp;&nbsp;                         변화추세 :  상승 : 현재 거래가 - 시가 > 0  하락 : 현재 거래가 - 시가 < 0              <br>\n",
    "    &nbsp;&nbsp;&nbsp;&nbsp;\"change_price\":1.00000000,&nbsp;&nbsp;&nbsp;&nbsp;&nbsp;&nbsp;&nbsp;&nbsp;               변화량 : | 현재 거래가 - 시가 |                                                       <br>\n",
    "    &nbsp;&nbsp;&nbsp;&nbsp;\"signed_change_price\":1.00000000,&nbsp;&nbsp;&nbsp;&nbsp;&nbsp;&nbsp;&nbsp;&nbsp;        변화값(부호있는) : 현재 거래가 - 시가                                                 <br>\n",
    "    &nbsp;&nbsp;&nbsp;&nbsp;\"change_rate\":0.0039525692,&nbsp;&nbsp;&nbsp;&nbsp;&nbsp;&nbsp;&nbsp;&nbsp;              변화율 : | 현재 거래가 - 시가 | / 시가                                                <br>\n",
    "    &nbsp;&nbsp;&nbsp;&nbsp;\"signed_change_rate\":0.0039525692,&nbsp;&nbsp;&nbsp;&nbsp;&nbsp;&nbsp;&nbsp;&nbsp;       변화율(부호있는) : (현재 거래가 - 시가) / 시가                                        <br>\n",
    "    &nbsp;&nbsp;&nbsp;&nbsp;\"ask_bid\":\"ASK\",&nbsp;&nbsp;&nbsp;&nbsp;&nbsp;&nbsp;&nbsp;&nbsp;                         매매 추세 : ASK 매도세, BID 매수세<br>\n",
    "    &nbsp;&nbsp;&nbsp;&nbsp;\"trade_volume\":8038.11480086,&nbsp;&nbsp;&nbsp;&nbsp;&nbsp;&nbsp;&nbsp;&nbsp;            최근 거래량<br>\n",
    "    &nbsp;&nbsp;&nbsp;&nbsp;\"acc_trade_volume\":27819690.26582305,&nbsp;&nbsp;&nbsp;&nbsp;&nbsp;&nbsp;&nbsp;&nbsp;    누적 거래량<br>\n",
    "    &nbsp;&nbsp;&nbsp;&nbsp;\"trade_date\":\"20191205\",&nbsp;&nbsp;&nbsp;&nbsp;&nbsp;&nbsp;&nbsp;&nbsp;                 거래일      - 거래 타임스템프 정보가 있으므로 빼도 되는 정보 <br>\n",
    "    &nbsp;&nbsp;&nbsp;&nbsp;\"trade_time\":\"135345\",&nbsp;&nbsp;&nbsp;&nbsp;&nbsp;&nbsp;&nbsp;&nbsp;                   거래시간    - 거래 타임스탬프 정보가 있으므로 빼도 되는 정보 <br>\n",
    "    &nbsp;&nbsp;&nbsp;&nbsp;\"trade_timestamp\":1575554025000,&nbsp;&nbsp;&nbsp;&nbsp;&nbsp;&nbsp;&nbsp;&nbsp;         거래타임스템프 - 가장 최근 거래한 시간 <br>\n",
    "    &nbsp;&nbsp;&nbsp;&nbsp;\"acc_ask_volume\":13308511.06100172,&nbsp;&nbsp;&nbsp;&nbsp;&nbsp;&nbsp;&nbsp;&nbsp;      매도물량 - 많으면 가격이 오르기 힘듬 <br>\n",
    "    &nbsp;&nbsp;&nbsp;&nbsp;\"acc_bid_volume\":14511179.20482133,&nbsp;&nbsp;&nbsp;&nbsp;&nbsp;&nbsp;&nbsp;&nbsp;      매수물량 - 많으면 가격이 내려가기 힘듬 <br>\n",
    "    &nbsp;&nbsp;&nbsp;&nbsp;\"highest_52_week_price\":593.00000000,&nbsp;&nbsp;&nbsp;&nbsp;&nbsp;&nbsp;&nbsp;&nbsp;    52주중 최고가  <br>\n",
    "    &nbsp;&nbsp;&nbsp;&nbsp;\"highest_52_week_date\":\"2019-06-26\",&nbsp;&nbsp;&nbsp;&nbsp;&nbsp;&nbsp;&nbsp;&nbsp;     52주중 최고가 찍은 날 <br> \n",
    "    &nbsp;&nbsp;&nbsp;&nbsp;\"lowest_52_week_price\":240.00000000,&nbsp;&nbsp;&nbsp;&nbsp;&nbsp;&nbsp;&nbsp;&nbsp;     52주중 최저가 <br>\n",
    "    &nbsp;&nbsp;&nbsp;&nbsp;\"lowest_52_week_date\":\"2019-11-25\",&nbsp;&nbsp;&nbsp;&nbsp;&nbsp;&nbsp;&nbsp;&nbsp;      52주중 최저가 찍은 날 <br> \n",
    "    &nbsp;&nbsp;&nbsp;&nbsp;\"trade_status\":null,&nbsp;&nbsp;&nbsp;&nbsp;&nbsp;&nbsp;&nbsp;&nbsp;                     거래상태 - 거래 관련 정보는 trade 쪽에서 얻기 때문에 필요없음 <br>\n",
    "    &nbsp;&nbsp;&nbsp;&nbsp;\"market_state\":\"ACTIVE\",&nbsp;&nbsp;&nbsp;&nbsp;&nbsp;&nbsp;&nbsp;&nbsp;                 마켓상태 - 엑티브가 아니면 해당 정보가 의미가 없기 때문에 필터링 시 필요 <br>\n",
    "    &nbsp;&nbsp;&nbsp;&nbsp;\"market_state_for_ios\":null,&nbsp;&nbsp;&nbsp;&nbsp;&nbsp;&nbsp;&nbsp;&nbsp;             ios 마켓 상태 - 사실 상 필요없는 데이터 <br>\n",
    "    &nbsp;&nbsp;&nbsp;&nbsp;\"is_trading_suspended\":false,&nbsp;&nbsp;&nbsp;&nbsp;&nbsp;&nbsp;&nbsp;&nbsp;            거래 중단 - 마켓상태 처럼 데이터의 신뢰성을 부여 <br> \n",
    "    &nbsp;&nbsp;&nbsp;&nbsp;\"delisting_date\":null,&nbsp;&nbsp;&nbsp;&nbsp;&nbsp;&nbsp;&nbsp;&nbsp;                   코인 상장일 - 필요없음  <br>\n",
    "    &nbsp;&nbsp;&nbsp;&nbsp;\"market_warning\":\"NONE\",&nbsp;&nbsp;&nbsp;&nbsp;&nbsp;&nbsp;&nbsp;&nbsp;                 마켓 warning - 필요없음 마켓 상태로 해결 <br>\n",
    "    &nbsp;&nbsp;&nbsp;&nbsp;\"timestamp\":1575554025909,&nbsp;&nbsp;&nbsp;&nbsp;&nbsp;&nbsp;&nbsp;&nbsp;               틱 발생 타임스템프 - 식별자의 가치가 있음 <br>\n",
    "    &nbsp;&nbsp;&nbsp;&nbsp;\"acc_trade_price_24h\":10507679789.06134158,&nbsp;&nbsp;&nbsp;&nbsp;&nbsp;&nbsp;&nbsp;&nbsp;  24시간 시가총액 <br> \n",
    "    &nbsp;&nbsp;&nbsp;&nbsp;\"acc_trade_volume_24h\":41153303.75686184,&nbsp;&nbsp;&nbsp;&nbsp;&nbsp;&nbsp;&nbsp;&nbsp;    24시간 거래량 <br>\n",
    "    &nbsp;&nbsp;&nbsp;&nbsp;\"stream_type\":\"REALTIME\"&nbsp;&nbsp;&nbsp;&nbsp;&nbsp;&nbsp;&nbsp;&nbsp;                     스트림 타입 - 어차피 리얼타임이니 필요없음 <br>\n",
    "}"
   ]
  },
  {
   "cell_type": "markdown",
   "metadata": {},
   "source": [
    "# orderbook의 데이터 형태 분석\n",
    "{<br>\n",
    "&nbsp;&nbsp;&nbsp;&nbsp;\"type\":\"orderbook\",&nbsp;&nbsp;&nbsp;&nbsp;&nbsp;&nbsp;&nbsp;&nbsp; 토픽을 결정짓는 attr <br>\n",
    "&nbsp;&nbsp;&nbsp;&nbsp;\"code\":\"KRW-BTC\",&nbsp;&nbsp;&nbsp;&nbsp;&nbsp;&nbsp;&nbsp;&nbsp; 종목(채결이었으면 카운팅 할 대상)<br>\n",
    "&nbsp;&nbsp;&nbsp;&nbsp;\"timestamp\":1575553988269,&nbsp;&nbsp;&nbsp;&nbsp;&nbsp;&nbsp;&nbsp;&nbsp; 업데이트 타임스템프 - 식별자의 가치가 있음<br>\n",
    "&nbsp;&nbsp;&nbsp;&nbsp;\"total_ask_size\":12.60378903,&nbsp;&nbsp;&nbsp;&nbsp;&nbsp;&nbsp;&nbsp;&nbsp; 현재 총 매도물량<br>\n",
    "&nbsp;&nbsp;&nbsp;&nbsp;\"total_bid_size\":9.15384474,&nbsp;&nbsp;&nbsp;&nbsp;&nbsp;&nbsp;&nbsp;&nbsp; 현재 총 매수물량<br>\n",
    "&nbsp;&nbsp;&nbsp;&nbsp;\"orderbook_units\":&nbsp;&nbsp;&nbsp;&nbsp;&nbsp;&nbsp;&nbsp;&nbsp; 이 attr은 리스트를 가지는 게층형 구조 또는 nested 구조<br>\n",
    "&nbsp;&nbsp;&nbsp;&nbsp;\\[<br>\n",
    "&nbsp;&nbsp;&nbsp;&nbsp;&nbsp;&nbsp;&nbsp;&nbsp;{\"ask_price\":8703000.0,\"bid_price\":8695000.0,\"ask_size\":0.0311278,\"bid_size\":0.69556471},&nbsp;&nbsp;&nbsp;&nbsp;&nbsp;&nbsp;&nbsp;&nbsp; 매도1호가, 매수1호가 : 매도호가 중 가장 가격이 낮은 것과 매수호가 중 가장 가격이 높은 것  매도1호가 > 매수1호가  그리고 그 물량 <br>&nbsp;&nbsp;&nbsp;&nbsp;&nbsp;&nbsp;&nbsp;&nbsp;{\"ask_price\":8704000.0,\"bid_price\":8694000.0,\"ask_size\":0.002,\"bid_size\":0.17823952},<br>\n",
    "&nbsp;&nbsp;&nbsp;&nbsp;&nbsp;&nbsp;&nbsp;&nbsp;{\"ask_price\":8706000.0,\"bid_price\":8693000.0,\"ask_size\":0.3395,\"bid_size\":0.10012},<br>\n",
    "&nbsp;&nbsp;&nbsp;&nbsp;&nbsp;&nbsp;&nbsp;&nbsp;{\"ask_price\":8707000.0,\"bid_price\":8692000.0,\"ask_size\":0.19713255,\"bid_size\":0.42492},<br>\n",
    "&nbsp;&nbsp;&nbsp;&nbsp;&nbsp;&nbsp;&nbsp;&nbsp;{\"ask_price\":8708000.0,\"bid_price\":8691000.0,\"ask_size\":0.04117598,\"bid_size\":0.86286356},<br>\n",
    "&nbsp;&nbsp;&nbsp;&nbsp;&nbsp;&nbsp;&nbsp;&nbsp;{\"ask_price\":8709000.0,\"bid_price\":8690000.0,\"ask_size\":2.86058729,\"bid_size\":0.40441988},<br>\n",
    "&nbsp;&nbsp;&nbsp;&nbsp;&nbsp;&nbsp;&nbsp;&nbsp;{\"ask_price\":8713000.0,\"bid_price\":8689000.0,\"ask_size\":2.0,\"bid_size\":0.67556021},<br>\n",
    "&nbsp;&nbsp;&nbsp;&nbsp;&nbsp;&nbsp;&nbsp;&nbsp;{\"ask_price\":8715000.0,\"bid_price\":8688000.0,\"ask_size\":2.07204723,\"bid_size\":0.10012},<br>\n",
    "&nbsp;&nbsp;&nbsp;&nbsp;&nbsp;&nbsp;&nbsp;&nbsp;{\"ask_price\":8716000.0,\"bid_price\":8687000.0,\"ask_size\":2.0288,\"bid_size\":0.10012},<br>\n",
    "&nbsp;&nbsp;&nbsp;&nbsp;&nbsp;&nbsp;&nbsp;&nbsp;{\"ask_price\":8717000.0,\"bid_price\":8686000.0,\"ask_size\":0.869,\"bid_size\":1.57712},<br>\n",
    "&nbsp;&nbsp;&nbsp;&nbsp;&nbsp;&nbsp;&nbsp;&nbsp;{\"ask_price\":8718000.0,\"bid_price\":8685000.0,\"ask_size\":0.5166,\"bid_size\":1.89979874},<br>\n",
    "&nbsp;&nbsp;&nbsp;&nbsp;&nbsp;&nbsp;&nbsp;&nbsp;{\"ask_price\":8719000.0,\"bid_price\":8684000.0,\"ask_size\":1.0736,\"bid_size\":1.14239477},<br>\n",
    "&nbsp;&nbsp;&nbsp;&nbsp;&nbsp;&nbsp;&nbsp;&nbsp;{\"ask_price\":8720000.0,\"bid_price\":8683000.0,\"ask_size\":0.09076608,\"bid_size\":0.40230335},<br>\n",
    "&nbsp;&nbsp;&nbsp;&nbsp;&nbsp;&nbsp;&nbsp;&nbsp;{\"ask_price\":8722000.0,\"bid_price\":8682000.0,\"ask_size\":0.04931107,\"bid_size\":0.288},<br>\n",
    "&nbsp;&nbsp;&nbsp;&nbsp;&nbsp;&nbsp;&nbsp;&nbsp;{\"ask_price\":8724000.0,\"bid_price\":8680000.0,\"ask_size\":0.43214103,\"bid_size\":0.3023}<br>\n",
    "&nbsp;&nbsp;&nbsp;&nbsp;],<br>\n",
    "&nbsp;&nbsp;&nbsp;&nbsp;\"stream_type\":\"SNAPSHOT\"&nbsp;&nbsp;&nbsp;&nbsp;&nbsp;&nbsp;&nbsp;&nbsp;  어차피 스냅샷이니 필요없음<br>\n",
    "}\n"
   ]
  },
  {
   "cell_type": "markdown",
   "metadata": {},
   "source": [
    "# trade의 데이터 형태 분석\n",
    "{<br>\n",
    "&nbsp;&nbsp;&nbsp;&nbsp;\"type\":\"trade\",&nbsp;&nbsp;&nbsp;&nbsp;&nbsp;&nbsp;&nbsp;&nbsp;      토픽을 결정짓는 attr <br>\n",
    "&nbsp;&nbsp;&nbsp;&nbsp;\"code\":\"KRW-BTC\",&nbsp;&nbsp;&nbsp;&nbsp;&nbsp;&nbsp;&nbsp;&nbsp;    실제로 카운팅을 진행하여 인사이트를 뽑아내는 필드<br>\n",
    "&nbsp;&nbsp;&nbsp;&nbsp;\"timestamp\":1575553985422,&nbsp;&nbsp;&nbsp;&nbsp;&nbsp;&nbsp;&nbsp;&nbsp;  전송 타임스탬프 <br>\n",
    "&nbsp;&nbsp;&nbsp;&nbsp;\"trade_date\":\"2019-12-05\",&nbsp;&nbsp;&nbsp;&nbsp;&nbsp;&nbsp;&nbsp;&nbsp;  거래 날짜 - 거래 타임스탬프가 있어서 필요없음 <br>\n",
    "&nbsp;&nbsp;&nbsp;&nbsp;\"trade_time\":\"13:53:05\",&nbsp;&nbsp;&nbsp;&nbsp;&nbsp;&nbsp;&nbsp;&nbsp;    거래 시간 - 거래 타임스탬프가 있어서 필요없음 <br>\n",
    "&nbsp;&nbsp;&nbsp;&nbsp;\"trade_timestamp\":1575553985000,&nbsp;&nbsp;&nbsp;&nbsp;&nbsp;&nbsp;&nbsp;&nbsp;   거래 타임스탬프 - 아주 낮은 확률이지만 동시에 같은 시간에 거래가 일어날 수 있어서 식별자의 가치가 떨어짐<br>\n",
    "&nbsp;&nbsp;&nbsp;&nbsp;\"trade_price\":8703000.0,&nbsp;&nbsp;&nbsp;&nbsp;&nbsp;&nbsp;&nbsp;&nbsp;  거래 가격 <br>\n",
    "&nbsp;&nbsp;&nbsp;&nbsp;\"trade_volume\":0.0069,&nbsp;&nbsp;&nbsp;&nbsp;&nbsp;&nbsp;&nbsp;&nbsp;   거래량<br>\n",
    "&nbsp;&nbsp;&nbsp;&nbsp;\"ask_bid\":\"BID\",&nbsp;&nbsp;&nbsp;&nbsp;&nbsp;&nbsp;&nbsp;&nbsp;  매수/매도 채결  <br>\n",
    "&nbsp;&nbsp;&nbsp;&nbsp;\"prev_closing_price\":8515000.00000000,&nbsp;&nbsp;&nbsp;&nbsp;&nbsp;&nbsp;&nbsp;&nbsp;  최근 가격<br>\n",
    "&nbsp;&nbsp;&nbsp;&nbsp;\"change\":\"RISE\",&nbsp;&nbsp;&nbsp;&nbsp;&nbsp;&nbsp;&nbsp;&nbsp;                        변화<br>\n",
    "&nbsp;&nbsp;&nbsp;&nbsp;\"change_price\":188000.00000000,&nbsp;&nbsp;&nbsp;&nbsp;&nbsp;&nbsp;&nbsp;&nbsp;         변화액<br>\n",
    "&nbsp;&nbsp;&nbsp;&nbsp;\"sequential_id\":1575553985000000,&nbsp;&nbsp;&nbsp;&nbsp;&nbsp;&nbsp;&nbsp;&nbsp;       거래ID - 식별자로써의 가치(타임스탬프 + 시퀀셜 넘버)<br>\n",
    "&nbsp;&nbsp;&nbsp;&nbsp;\"stream_type\":\"SNAPSHOT\"&nbsp;&nbsp;&nbsp;&nbsp;&nbsp;&nbsp;&nbsp;&nbsp;                어차피 스냅샷이니 필요없음<br>\n",
    "}"
   ]
  },
  {
   "cell_type": "code",
   "execution_count": 94,
   "metadata": {},
   "outputs": [],
   "source": [
    "from confluent_kafka import Producer\n",
    "import sys\n"
   ]
  },
  {
   "cell_type": "code",
   "execution_count": 95,
   "metadata": {},
   "outputs": [],
   "source": [
    "def delivery_report(err, msg):\n",
    "    \"\"\" Called once for each message produced to indicate delivery result.\n",
    "        Triggered by poll() or flush(). \"\"\"\n",
    "    if err is not None:\n",
    "        print('Message delivery failed: {}'.format(err))\n",
    "    else:\n",
    "        print('Message delivered to {} [{}]'.format(msg.topic(), msg.partition()))"
   ]
  },
  {
   "cell_type": "code",
   "execution_count": 96,
   "metadata": {},
   "outputs": [],
   "source": [
    "def pub_msg(producer,topic,msg):\n",
    "    try:\n",
    "        # Produce line (without newline)\n",
    "        producer.produce(topic, msg, callback=delivery_report)\n",
    "        producer.poll(0)\n",
    "    except BufferError:\n",
    "        sys.stderr.write('%% Local producer queue is full (%d messages awaiting delivery): try again\\n' %\n",
    "                             len(producer))\n",
    "    except Exception as e:\n",
    "        print(e)"
   ]
  },
  {
   "cell_type": "code",
   "execution_count": null,
   "metadata": {},
   "outputs": [],
   "source": []
  },
  {
   "cell_type": "code",
   "execution_count": 97,
   "metadata": {},
   "outputs": [
    {
     "name": "stderr",
     "output_type": "stream",
     "text": [
      "--- request header ---\n",
      "GET /websocket/v1 HTTP/1.1\n",
      "Upgrade: websocket\n",
      "Connection: Upgrade\n",
      "Host: api.upbit.com\n",
      "Origin: http://api.upbit.com\n",
      "Sec-WebSocket-Key: P1WCLR5dVq23kxamoeYDog==\n",
      "Sec-WebSocket-Version: 13\n",
      "\n",
      "\n",
      "-----------------------\n",
      "--- response header ---\n",
      "HTTP/1.1 101 Switching Protocols\n",
      "Date: Thu, 05 Dec 2019 16:18:51 GMT\n",
      "Content-Type: text/plain; charset=UTF-8\n",
      "Connection: upgrade\n",
      "Limit-By-IP: Yes\n",
      "Remaining-Req: group=websocket; min=99; sec=4\n",
      "upgrade: websocket\n",
      "sec-websocket-accept: TTHD57hXkg+qd1wMwDv1JzmH3R8=\n",
      "-----------------------\n",
      "send: b'\\x81\\xec\\xe1\\xa9\\xe5\\x1f\\xba\\xd2\\xc7k\\x88\\xca\\x8ez\\x95\\x8b\\xdf=\\x8a\\xc6\\x8a|\\x8a\\x8b\\x983\\x9a\\x8b\\x91f\\x91\\xcc\\xc7%\\xc3\\xdd\\x8c|\\x8a\\xcc\\x97=\\xcd\\x8b\\x86p\\x85\\xcc\\x96=\\xdb\\xf2\\xc7T\\xb3\\xfe\\xc8]\\xb5\\xea\\xc73\\xc3\\xe2\\xb7H\\xcc\\xec\\xb1W\\xc3\\x85\\xc7T\\xb3\\xfe\\xc8]\\xa2\\xe1\\xc73\\xc3\\xe2\\xb7H\\xcc\\xf1\\xb7O\\xc3\\x85\\xc7Z\\xb5\\xe1\\xc8]\\xa2\\xe1\\xc73\\xc3\\xeb\\xb1\\\\\\xcc\\xeb\\xa6W\\xc3\\xf4\\x98B'\n",
      "send: b'\\x88\\x82E`(#F\\x88'\n"
     ]
    },
    {
     "name": "stdout",
     "output_type": "stream",
     "text": [
      "\n",
      "### closed ###\n"
     ]
    }
   ],
   "source": [
    "import websocket\n",
    "import json\n",
    "\n",
    "try:\n",
    "    import thread\n",
    "except ImportError:\n",
    "    import _thread as thread\n",
    "import time\n",
    "\n",
    "global count \n",
    "global producer \n",
    "producer = Producer({'bootstrap.servers': 'localhost:9092,localhost:9093,localhost:9094'})\n",
    "\n",
    "count = 0\n",
    "\n",
    "def on_message(ws, message):\n",
    "    global count \n",
    "    global producer \n",
    "    \n",
    "    count += 1\n",
    "    try:\n",
    "        if count == 100000:\n",
    "            ws.close()\n",
    "        pub_msg(producer,'ticker',message)\n",
    "    except Exception:\n",
    "        ws.close()\n",
    "\n",
    "def on_error(ws, error):\n",
    "    print(error)\n",
    "\n",
    "def on_close(ws):\n",
    "    print(\"### closed ###\")\n",
    "\n",
    "def on_open(ws):\n",
    "    def run(*args):\n",
    "        ws.send('[{\"ticket\":\"koock\"},{\"type\":\"ticker\",\"codes\":[\"KRW-BTC\",\"KRW-ETH\",\"KRW-BCH\",\"KRW-XRP\",\"ETH-BCH\",\"BTC-BCH\"]}]')\n",
    "    thread.start_new_thread(run, ())\n",
    "\n",
    "\n",
    "if __name__ == \"__main__\":\n",
    "    websocket.enableTrace(True)\n",
    "    ws = websocket.WebSocketApp(\"wss://api.upbit.com/websocket/v1\",\n",
    "                              on_message = on_message,\n",
    "                              on_error = on_error,\n",
    "                              on_close = on_close)\n",
    "    ws.on_open = on_open\n",
    "    ws.run_forever()"
   ]
  },
  {
   "cell_type": "code",
   "execution_count": null,
   "metadata": {},
   "outputs": [],
   "source": []
  },
  {
   "cell_type": "code",
   "execution_count": null,
   "metadata": {},
   "outputs": [],
   "source": []
  }
 ],
 "metadata": {
  "kernelspec": {
   "display_name": "Python 3",
   "language": "python",
   "name": "python3"
  },
  "language_info": {
   "codemirror_mode": {
    "name": "ipython",
    "version": 3
   },
   "file_extension": ".py",
   "mimetype": "text/x-python",
   "name": "python",
   "nbconvert_exporter": "python",
   "pygments_lexer": "ipython3",
   "version": "3.6.9"
  }
 },
 "nbformat": 4,
 "nbformat_minor": 2
}
