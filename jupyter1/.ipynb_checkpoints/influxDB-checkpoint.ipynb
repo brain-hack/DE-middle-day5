{
 "cells": [
  {
   "cell_type": "markdown",
   "metadata": {},
   "source": [
    "# 시계열 데이터는 어떻게 저장하면 좋을까?\n",
    "## InfluxDB"
   ]
  },
  {
   "cell_type": "code",
   "execution_count": 1,
   "metadata": {},
   "outputs": [
    {
     "name": "stdout",
     "output_type": "stream",
     "text": [
      "Collecting influxdb\n",
      "  Downloading https://files.pythonhosted.org/packages/ef/02/da676b46a3c7b7387151554bd71a15d455ec512222f7f5171ae8607522aa/influxdb-5.2.3-py2.py3-none-any.whl (73kB)\n",
      "\u001b[K    100% |################################| 81kB 1.2MB/s ta 0:00:01\n",
      "\u001b[?25hCollecting requests>=2.17.0 (from influxdb)\n",
      "  Downloading https://files.pythonhosted.org/packages/51/bd/23c926cd341ea6b7dd0b2a00aba99ae0f828be89d72b2190f27c11d4b7fb/requests-2.22.0-py2.py3-none-any.whl (57kB)\n",
      "\u001b[K    100% |################################| 61kB 10.0MB/s ta 0:00:01\n",
      "\u001b[?25hRequirement already satisfied: python-dateutil>=2.6.0 in /usr/local/lib/python3.6/dist-packages (from influxdb)\n",
      "Requirement already satisfied: six>=1.10.0 in /usr/lib/python3/dist-packages (from influxdb)\n",
      "Collecting pytz (from influxdb)\n",
      "  Downloading https://files.pythonhosted.org/packages/e7/f9/f0b53f88060247251bf481fa6ea62cd0d25bf1b11a87888e53ce5b7c8ad2/pytz-2019.3-py2.py3-none-any.whl (509kB)\n",
      "\u001b[K    100% |################################| 512kB 2.9MB/s eta 0:00:01\n",
      "\u001b[?25hCollecting certifi>=2017.4.17 (from requests>=2.17.0->influxdb)\n",
      "  Downloading https://files.pythonhosted.org/packages/b9/63/df50cac98ea0d5b006c55a399c3bf1db9da7b5a24de7890bc9cfd5dd9e99/certifi-2019.11.28-py2.py3-none-any.whl (156kB)\n",
      "\u001b[K    100% |################################| 163kB 311kB/s ta 0:00:011\n",
      "\u001b[?25hRequirement already satisfied: idna<2.9,>=2.5 in /usr/lib/python3/dist-packages (from requests>=2.17.0->influxdb)\n",
      "Collecting chardet<3.1.0,>=3.0.2 (from requests>=2.17.0->influxdb)\n",
      "  Downloading https://files.pythonhosted.org/packages/bc/a9/01ffebfb562e4274b6487b4bb1ddec7ca55ec7510b22e4c51f14098443b8/chardet-3.0.4-py2.py3-none-any.whl (133kB)\n",
      "\u001b[K    100% |################################| 143kB 3.7MB/s eta 0:00:01\n",
      "\u001b[?25hCollecting urllib3!=1.25.0,!=1.25.1,<1.26,>=1.21.1 (from requests>=2.17.0->influxdb)\n",
      "  Downloading https://files.pythonhosted.org/packages/b4/40/a9837291310ee1ccc242ceb6ebfd9eb21539649f193a7c8c86ba15b98539/urllib3-1.25.7-py2.py3-none-any.whl (125kB)\n",
      "\u001b[K    100% |################################| 133kB 3.2MB/s eta 0:00:01\n",
      "\u001b[?25hInstalling collected packages: certifi, chardet, urllib3, requests, pytz, influxdb\n",
      "Successfully installed certifi-2019.11.28 chardet-3.0.4 influxdb-5.2.3 pytz-2019.3 requests-2.22.0 urllib3-1.25.7\n"
     ]
    }
   ],
   "source": [
    "! pip3 install influxdb"
   ]
  },
  {
   "cell_type": "code",
   "execution_count": 5,
   "metadata": {},
   "outputs": [],
   "source": [
    "from influxdb import InfluxDBClient"
   ]
  },
  {
   "cell_type": "code",
   "execution_count": 14,
   "metadata": {},
   "outputs": [],
   "source": [
    "user = 'root'\n",
    "password = 'root'\n",
    "dbname = 'example'\n",
    "dbuser = 'smly'\n",
    "dbuser_password = 'my_secret_password'\n",
    "bind_params = {'host': 'server01'}\n"
   ]
  },
  {
   "cell_type": "code",
   "execution_count": 7,
   "metadata": {},
   "outputs": [],
   "source": [
    "client = InfluxDBClient(\"localhost\", 8086, user, password, dbname)"
   ]
  },
  {
   "cell_type": "code",
   "execution_count": 26,
   "metadata": {},
   "outputs": [
    {
     "name": "stdout",
     "output_type": "stream",
     "text": [
      "Create database: example\n"
     ]
    }
   ],
   "source": [
    "print(\"Create database: \" + dbname)\n",
    "client.create_database(dbname)"
   ]
  },
  {
   "cell_type": "code",
   "execution_count": 27,
   "metadata": {},
   "outputs": [
    {
     "name": "stdout",
     "output_type": "stream",
     "text": [
      "Create a retention policy\n"
     ]
    }
   ],
   "source": [
    "print(\"Create a retention policy\")\n",
    "client.create_retention_policy('awesome_policy', '3d', 3, default=True)"
   ]
  },
  {
   "cell_type": "code",
   "execution_count": 28,
   "metadata": {},
   "outputs": [
    {
     "name": "stdout",
     "output_type": "stream",
     "text": [
      "Switch user: smly\n"
     ]
    }
   ],
   "source": [
    "print(\"Switch user: \" + dbuser)\n",
    "client.switch_user(dbuser, dbuser_password)"
   ]
  },
  {
   "cell_type": "code",
   "execution_count": 31,
   "metadata": {},
   "outputs": [],
   "source": [
    "json_body = [\n",
    "    {\n",
    "        \"measurement\": \"cpu_load_short\",\n",
    "        \"tags\": {\n",
    "            \"host\": \"server01\",\n",
    "            \"region\": \"us-west\"\n",
    "        },\n",
    "        \"time\": \"2019-12-04T23:00:00Z\",\n",
    "        \"fields\": {\n",
    "            \"cpu\": 'i5',\n",
    "            \"core\": 3,\n",
    "            \"memory\": 600,\n",
    "            \"diske\": 10000\n",
    "        }\n",
    "    }\n",
    "]"
   ]
  },
  {
   "cell_type": "code",
   "execution_count": 32,
   "metadata": {
    "scrolled": false
   },
   "outputs": [
    {
     "name": "stdout",
     "output_type": "stream",
     "text": [
      "Write points: [{'measurement': 'cpu_load_short', 'tags': {'host': 'server01', 'region': 'us-west'}, 'time': '2019-12-04T23:00:00Z', 'fields': {'cpu': 'i5', 'core': 3, 'memory': 600, 'diske': 10000}}]\n"
     ]
    },
    {
     "data": {
      "text/plain": [
       "True"
      ]
     },
     "execution_count": 32,
     "metadata": {},
     "output_type": "execute_result"
    }
   ],
   "source": [
    "print(\"Write points: {0}\".format(json_body))\n",
    "client.write_points(json_body)"
   ]
  },
  {
   "cell_type": "code",
   "execution_count": 40,
   "metadata": {},
   "outputs": [],
   "source": [
    "json_body2 = [\n",
    "    {\n",
    "        \"measurement\": \"cpu_load_short\",\n",
    "        \"tags\": {\n",
    "            \"host\": \"server01\",\n",
    "            \"region\": \"us-west\"\n",
    "        },\n",
    "        \"time\": \"2019-12-04T23:00:00Z\",\n",
    "        \"fields\": {\n",
    "            \"cpu\": 'i5',\n",
    "            \"core\": 3,\n",
    "            \"memory\": 600,\n",
    "            \"FVG\": 10000\n",
    "        }\n",
    "    }\n",
    "]"
   ]
  },
  {
   "cell_type": "code",
   "execution_count": 41,
   "metadata": {},
   "outputs": [
    {
     "name": "stdout",
     "output_type": "stream",
     "text": [
      "Write points: [{'measurement': 'cpu_load_short', 'tags': {'host': 'server01', 'region': 'us-west'}, 'time': '2019-12-04T23:00:00Z', 'fields': {'cpu': 'i5', 'core': 3, 'memory': 600, 'FVG': 10000}}]\n"
     ]
    },
    {
     "data": {
      "text/plain": [
       "True"
      ]
     },
     "execution_count": 41,
     "metadata": {},
     "output_type": "execute_result"
    }
   ],
   "source": [
    "print(\"Write points: {0}\".format(json_body2))\n",
    "client.write_points(json_body2)"
   ]
  },
  {
   "cell_type": "code",
   "execution_count": 43,
   "metadata": {},
   "outputs": [],
   "source": [
    "view_all = 'select * from cpu_load_short;'"
   ]
  },
  {
   "cell_type": "code",
   "execution_count": 44,
   "metadata": {},
   "outputs": [
    {
     "name": "stdout",
     "output_type": "stream",
     "text": [
      "Querying data: select * from cpu_load_short;\n"
     ]
    }
   ],
   "source": [
    "print(\"Querying data: \" + view_all)\n",
    "result = client.query(view_all)"
   ]
  },
  {
   "cell_type": "code",
   "execution_count": 45,
   "metadata": {},
   "outputs": [
    {
     "name": "stdout",
     "output_type": "stream",
     "text": [
      "ResultSet({'('cpu_load_short', None)': [{'time': '2019-12-04T23:00:00Z', 'Bool_value': True, 'FVG': 10000, 'Float_value': 0.64, 'Int_value': 3, 'String_value': 'Text', 'core': 3, 'cpu': 'i5', 'diske': 10000, 'host': 'server01', 'memory': 600, 'region': 'us-west'}]})\n"
     ]
    }
   ],
   "source": [
    "print(result)"
   ]
  },
  {
   "cell_type": "code",
   "execution_count": 17,
   "metadata": {},
   "outputs": [],
   "source": [
    "query = 'select Float_value from cpu_load_short;'"
   ]
  },
  {
   "cell_type": "code",
   "execution_count": 19,
   "metadata": {},
   "outputs": [
    {
     "name": "stdout",
     "output_type": "stream",
     "text": [
      "Querying data: select Float_value from cpu_load_short;\n"
     ]
    }
   ],
   "source": [
    "print(\"Querying data: \" + query)\n",
    "result = client.query(query)"
   ]
  },
  {
   "cell_type": "code",
   "execution_count": 20,
   "metadata": {},
   "outputs": [
    {
     "name": "stdout",
     "output_type": "stream",
     "text": [
      "Result: ResultSet({'('cpu_load_short', None)': [{'time': '2019-12-04T23:00:00Z', 'Float_value': 0.64}]})\n"
     ]
    }
   ],
   "source": [
    "print(\"Result: {0}\".format(result))"
   ]
  },
  {
   "cell_type": "code",
   "execution_count": 21,
   "metadata": {},
   "outputs": [],
   "source": [
    "query_where = 'select Int_value from cpu_load_short where host=$host;'"
   ]
  },
  {
   "cell_type": "code",
   "execution_count": 22,
   "metadata": {},
   "outputs": [
    {
     "name": "stdout",
     "output_type": "stream",
     "text": [
      "Querying data: select Int_value from cpu_load_short where host=$host;\n"
     ]
    }
   ],
   "source": [
    "print(\"Querying data: \" + query_where)\n",
    "result = client.query(query_where, bind_params=bind_params)"
   ]
  },
  {
   "cell_type": "code",
   "execution_count": 23,
   "metadata": {},
   "outputs": [
    {
     "name": "stdout",
     "output_type": "stream",
     "text": [
      "Result: ResultSet({'('cpu_load_short', None)': [{'time': '2019-12-04T23:00:00Z', 'Int_value': 3}]})\n"
     ]
    }
   ],
   "source": [
    "print(\"Result: {0}\".format(result))"
   ]
  },
  {
   "cell_type": "code",
   "execution_count": 24,
   "metadata": {},
   "outputs": [
    {
     "name": "stdout",
     "output_type": "stream",
     "text": [
      "Switch user: root\n"
     ]
    }
   ],
   "source": [
    "print(\"Switch user: \" + user)\n",
    "client.switch_user(user, password)"
   ]
  },
  {
   "cell_type": "code",
   "execution_count": 25,
   "metadata": {},
   "outputs": [
    {
     "name": "stdout",
     "output_type": "stream",
     "text": [
      "Delete database: example\n"
     ]
    }
   ],
   "source": [
    "print(\"Delete database: \" + dbname)\n",
    "client.drop_database(dbname)"
   ]
  },
  {
   "cell_type": "code",
   "execution_count": null,
   "metadata": {},
   "outputs": [],
   "source": []
  }
 ],
 "metadata": {
  "kernelspec": {
   "display_name": "Python 3",
   "language": "python",
   "name": "python3"
  },
  "language_info": {
   "codemirror_mode": {
    "name": "ipython",
    "version": 3
   },
   "file_extension": ".py",
   "mimetype": "text/x-python",
   "name": "python",
   "nbconvert_exporter": "python",
   "pygments_lexer": "ipython3",
   "version": "3.6.9"
  }
 },
 "nbformat": 4,
 "nbformat_minor": 2
}
